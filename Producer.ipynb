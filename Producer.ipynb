{
 "cells": [
  {
   "cell_type": "markdown",
   "metadata": {},
   "source": [
    "# Streaming processing of cosmic rays using Drift Tubes detectors\n",
    "\n",
    "Dal Magro Matteo\n",
    "\n",
    "Rosset Lorenzo\n",
    "\n",
    "Zanola Andrea\n",
    "\n",
    "## Producer"
   ]
  },
  {
   "cell_type": "code",
   "execution_count": 1,
   "metadata": {},
   "outputs": [],
   "source": [
    "import boto3\n",
    "import pandas as pd\n",
    "import time\n",
    "import json\n",
    "import numpy as np\n",
    "import sys\n",
    "from kafka import KafkaProducer"
   ]
  },
  {
   "cell_type": "markdown",
   "metadata": {},
   "source": [
    "### Load Data from S3 bucket"
   ]
  },
  {
   "cell_type": "code",
   "execution_count": 2,
   "metadata": {},
   "outputs": [],
   "source": [
    "s3_client = boto3.client('s3',\n",
    "    aws_access_key_id='e682710620e4404a92ceb9beab7e7f1a',\n",
    "    aws_secret_access_key='b9f491755eea4698a919e10f0db026b8',\n",
    "    endpoint_url='https://cloud-areapd.pd.infn.it:5210',\n",
    "    verify=False)"
   ]
  },
  {
   "cell_type": "code",
   "execution_count": 3,
   "metadata": {},
   "outputs": [
    {
     "name": "stderr",
     "output_type": "stream",
     "text": [
      "/usr/lib/python3.6/site-packages/urllib3/connectionpool.py:1020: InsecureRequestWarning: Unverified HTTPS request is being made to host 'cloud-areapd.pd.infn.it'. Adding certificate verification is strongly advised. See: https://urllib3.readthedocs.io/en/1.26.x/advanced-usage.html#ssl-warnings\n",
      "  InsecureRequestWarning,\n"
     ]
    },
    {
     "name": "stdout",
     "output_type": "stream",
     "text": [
      "Existing buckets:\n",
      "  2021-07-13_Run1\n",
      "  LCPmodB-Y3_CMS_FCNC\n",
      "  MAPD_miniDT_batch\n",
      "  MAPD_miniDT_stream\n",
      "  RUN001220\n",
      "  RUN001221\n",
      "  RUN001222\n",
      "  RUN001223\n",
      "  RUN001231\n",
      "  RUN001232\n",
      "  RUN001233\n",
      "  RUN001234\n",
      "  RUN001235\n",
      "  RUN001236\n",
      "  RUN001237\n",
      "  RUN001238\n",
      "  RUN001240\n",
      "  RUN001242\n",
      "  Run001213\n",
      "  description\n",
      "  mybucket\n"
     ]
    }
   ],
   "source": [
    "# Retrieve the list of existing buckets\n",
    "response = s3_client.list_buckets()\n",
    "\n",
    "# Output the bucket names\n",
    "print('Existing buckets:')\n",
    "for bucket in response['Buckets']:\n",
    "    print(f'  {bucket[\"Name\"]}')"
   ]
  },
  {
   "cell_type": "code",
   "execution_count": 4,
   "metadata": {},
   "outputs": [
    {
     "name": "stderr",
     "output_type": "stream",
     "text": [
      "/usr/lib/python3.6/site-packages/urllib3/connectionpool.py:1020: InsecureRequestWarning: Unverified HTTPS request is being made to host 'cloud-areapd.pd.infn.it'. Adding certificate verification is strongly advised. See: https://urllib3.readthedocs.io/en/1.26.x/advanced-usage.html#ssl-warnings\n",
      "  InsecureRequestWarning,\n"
     ]
    },
    {
     "name": "stdout",
     "output_type": "stream",
     "text": [
      "['data_000000.txt', 'data_000001.txt', 'data_000002.txt', 'data_000003.txt', 'data_000004.txt', 'data_000005.txt', 'data_000006.txt', 'data_000007.txt', 'data_000008.txt', 'data_000009.txt']\n"
     ]
    }
   ],
   "source": [
    "bucket = 'MAPD_miniDT_stream'\n",
    "keys = []\n",
    "for obj in s3_client.list_objects_v2(Bucket=bucket)['Contents']:\n",
    "    keys.append(obj['Key'])\n",
    "    \n",
    "print(keys[:10])"
   ]
  },
  {
   "cell_type": "markdown",
   "metadata": {},
   "source": [
    "### Sending Data to topic_stream"
   ]
  },
  {
   "cell_type": "code",
   "execution_count": 5,
   "metadata": {},
   "outputs": [],
   "source": [
    "KAFKA_BOOTSTRAP_SERVERS = '10.67.22.127:9092'\n",
    "producer = KafkaProducer(bootstrap_servers=KAFKA_BOOTSTRAP_SERVERS, \n",
    "                         linger_ms=200, batch_size=100000)\n"
   ]
  },
  {
   "cell_type": "code",
   "execution_count": 9,
   "metadata": {},
   "outputs": [
    {
     "name": "stderr",
     "output_type": "stream",
     "text": [
      "/usr/lib/python3.6/site-packages/urllib3/connectionpool.py:1020: InsecureRequestWarning: Unverified HTTPS request is being made to host 'cloud-areapd.pd.infn.it'. Adding certificate verification is strongly advised. See: https://urllib3.readthedocs.io/en/1.26.x/advanced-usage.html#ssl-warnings\n",
      "  InsecureRequestWarning,\n"
     ]
    }
   ],
   "source": [
    "count = 0\n",
    "#x=[]\n",
    "while True:\n",
    "    try:\n",
    "        key = keys[count % len(keys)]\n",
    "        response = s3_client.get_object(Bucket=bucket, Key=key)\n",
    "        \n",
    "        #rate = 2000  # ADC rate in rows per second. Tipical is 1000\n",
    "        body = pd.read_csv(response.get('Body'), dtype='str')\n",
    "    \n",
    "        for index, row in body.iterrows():\n",
    "            producer.send(topic='topic_stream', value=row.to_json().encode('utf-8'))\n",
    "            #print(row.to_json().encode('utf-8'))\n",
    "            #time.sleep(1/rate)\n",
    "        count += 1\n",
    "    except KeyboardInterrupt:\n",
    "        break"
   ]
  },
  {
   "cell_type": "code",
   "execution_count": null,
   "metadata": {},
   "outputs": [],
   "source": []
  }
 ],
 "metadata": {
  "kernelspec": {
   "display_name": "Python 3",
   "language": "python",
   "name": "python3"
  },
  "language_info": {
   "codemirror_mode": {
    "name": "ipython",
    "version": 3
   },
   "file_extension": ".py",
   "mimetype": "text/x-python",
   "name": "python",
   "nbconvert_exporter": "python",
   "pygments_lexer": "ipython3",
   "version": "3.6.5"
  }
 },
 "nbformat": 4,
 "nbformat_minor": 2
}
